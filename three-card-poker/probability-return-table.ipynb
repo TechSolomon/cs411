{
 "cells": [
  {
   "cell_type": "markdown",
   "metadata": {},
   "source": [
    "## 🃏 Three Card Poker\n",
    "#### Solomon Himelbloom (2023-11-06)\n",
    "\n",
    "- Write a program to compute a Three Card Poker probability and return table.\n",
    "- Make your code as clean and extensible as possible since we will extend this in future HWs.\n",
    "- Generate every possible 3 card hand from a standard 52 card deck and determine which category the hand belongs to.\n",
    "- Once you have the probabilities, multiply by the payout and then sum for the total return.\n"
   ]
  },
  {
   "cell_type": "code",
   "execution_count": 1,
   "metadata": {},
   "outputs": [],
   "source": [
    "from itertools import combinations, permutations\n"
   ]
  },
  {
   "cell_type": "code",
   "execution_count": 2,
   "metadata": {},
   "outputs": [
    {
     "name": "stdout",
     "output_type": "stream",
     "text": [
      ">> Standard 52-card deck.\n",
      "Permutations: 132600\n",
      "Combinations: 22100\n"
     ]
    }
   ],
   "source": [
    "ranks = [\"2\", \"3\", \"4\", \"5\", \"6\", \"7\", \"8\", \"9\", \"10\", \"J\", \"Q\", \"K\", \"A\"]\n",
    "\n",
    "suits = [\"♠\", \"♦\", \"♥\", \"♣\"]\n",
    "\n",
    "deck = [f\"{rank} of {suit}\" for rank in ranks for suit in suits]\n",
    "\n",
    "size = 3\n",
    "\n",
    "partial = list(permutations(deck, size))\n",
    "\n",
    "hands = list(combinations(deck, size))\n",
    "\n",
    "print(f\">> Standard {len(deck)}-card deck.\")\n",
    "\n",
    "print(\"Permutations: \" + str(len(partial)))\n",
    "\n",
    "print(\"Combinations: \" + str(len(hands)))\n"
   ]
  },
  {
   "cell_type": "markdown",
   "metadata": {},
   "source": [
    "### Hand Categories\n",
    "1. Straight Flush\n",
    "2. Three of a Kind\n",
    "3. Straight\n",
    "4. Flush\n",
    "5. Pair\n",
    "6. High Card"
   ]
  },
  {
   "cell_type": "code",
   "execution_count": 3,
   "metadata": {},
   "outputs": [],
   "source": [
    "def categorize(hand):\n",
    "    rank_counts = {}\n",
    "    for card in hand:\n",
    "        rank = card.split()[0]\n",
    "        if rank in rank_counts:\n",
    "            rank_counts[rank] += 1\n",
    "        else:\n",
    "            rank_counts[rank] = 1\n",
    "\n",
    "    sorted_ranks = sorted([card.split()[0] for card in hand])\n",
    "\n",
    "    def straight():\n",
    "        \"\"\"3 in sequence (includes AKQ).\"\"\"\n",
    "        ordering = []\n",
    "\n",
    "        example = [\n",
    "            [\"A\", \"2\", \"3\"],\n",
    "            [\"2\", \"3\", \"4\"],\n",
    "            [\"3\", \"4\", \"5\"],\n",
    "            [\"4\", \"5\", \"6\"],\n",
    "            [\"5\", \"6\", \"7\"],\n",
    "            [\"6\", \"7\", \"8\"],\n",
    "            [\"7\", \"8\", \"9\"],\n",
    "            [\"8\", \"9\", \"10\"],\n",
    "            [\"9\", \"10\", \"J\"],\n",
    "            [\"10\", \"J\", \"Q\"],\n",
    "            [\"J\", \"Q\", \"K\"],\n",
    "            [\"Q\", \"K\", \"A\"],\n",
    "        ]\n",
    "\n",
    "        for i in range(len(example)):\n",
    "            perm = list(permutations(example[i]))\n",
    "            for j in range(len(perm)):\n",
    "                ordering.append(list(perm[j]))\n",
    "\n",
    "        sample = sorted_ranks in ordering\n",
    "        return sample\n",
    "\n",
    "    def flush():\n",
    "        \"\"\"3 suited.\"\"\"\n",
    "        return len(set(card.split()[-1] for card in hand)) == 1\n",
    "\n",
    "    if straight() and flush():\n",
    "        return \"Straight Flush\"\n",
    "\n",
    "    if 3 in rank_counts.values():\n",
    "        return \"Three of a Kind\"\n",
    "\n",
    "    if straight():\n",
    "        return \"Straight\"\n",
    "\n",
    "    if flush():\n",
    "        return \"Flush\"\n",
    "\n",
    "    if 2 in rank_counts.values():\n",
    "        return \"Pair\"\n",
    "\n",
    "    return \"High Card\"\n"
   ]
  },
  {
   "cell_type": "code",
   "execution_count": 4,
   "metadata": {},
   "outputs": [
    {
     "name": "stdout",
     "output_type": "stream",
     "text": [
      ">> Category Frequencies\n",
      "Straight Flush: 48\n",
      "Three of a Kind: 52\n",
      "Straight: 720\n",
      "Flush: 1096\n",
      "Pair: 3744\n",
      "High Card: 16440\n"
     ]
    }
   ],
   "source": [
    "category_counts = {\n",
    "    category: 0\n",
    "    for category in [\n",
    "        \"Straight Flush\",\n",
    "        \"Three of a Kind\",\n",
    "        \"Straight\",\n",
    "        \"Flush\",\n",
    "        \"Pair\",\n",
    "        \"High Card\",\n",
    "    ]\n",
    "}\n",
    "\n",
    "for hand in hands:\n",
    "    category = categorize(hand)\n",
    "    if category != \"One Pair\":\n",
    "        category_counts[category] += 1\n",
    "\n",
    "print(\">> Category Frequencies\")\n",
    "for category, count in category_counts.items():\n",
    "    print(f\"{category}: {count}\")\n"
   ]
  },
  {
   "cell_type": "markdown",
   "metadata": {},
   "source": [
    "#### Answers to Questions\n",
    "- Assume a player makes a $1 bet and will get a payout for a pair or higher. With just a high card, they lose their $1 bet. What is the total return of this game? Is this a good game for a player?"
   ]
  }
 ],
 "metadata": {
  "kernelspec": {
   "display_name": "cs411-Si67xnTM",
   "language": "python",
   "name": "python3"
  },
  "language_info": {
   "codemirror_mode": {
    "name": "ipython",
    "version": 3
   },
   "file_extension": ".py",
   "mimetype": "text/x-python",
   "name": "python",
   "nbconvert_exporter": "python",
   "pygments_lexer": "ipython3",
   "version": "3.11.6"
  }
 },
 "nbformat": 4,
 "nbformat_minor": 2
}

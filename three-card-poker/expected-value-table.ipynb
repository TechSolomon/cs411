{
 "cells": [
  {
   "cell_type": "markdown",
   "metadata": {},
   "source": [
    "## 🃏 Draw Poker\n",
    "#### Solomon Himelbloom (2023-12-08)"
   ]
  },
  {
   "cell_type": "code",
   "execution_count": 1,
   "metadata": {},
   "outputs": [],
   "source": [
    "from src.evaluation import *"
   ]
  },
  {
   "cell_type": "code",
   "execution_count": 2,
   "metadata": {},
   "outputs": [
    {
     "name": "stdout",
     "output_type": "stream",
     "text": [
      ">> Standard 52-card deck.\n",
      "Permutations: 132600\n",
      "Combinations: 22100\n"
     ]
    }
   ],
   "source": [
    "print(f\">> Standard {len(deck)}-card deck.\")\n",
    "\n",
    "print(\"Permutations: \" + str(len(partial)))\n",
    "\n",
    "print(\"Combinations: \" + str(len(hands)))"
   ]
  },
  {
   "cell_type": "code",
   "execution_count": 3,
   "metadata": {},
   "outputs": [
    {
     "name": "stdout",
     "output_type": "stream",
     "text": [
      ">> Category Frequencies\n",
      "Royal Flush: 4\n",
      "Straight Flush: 44\n",
      "Three Aces: 4\n",
      "Three of a Kind: 48\n",
      "Straight: 720\n",
      "Flush: 1096\n",
      "Pair: 3744\n",
      "High Card: 16440\n",
      "\n",
      ">> Category Probabilities\n",
      "Royal Flush: 0.00018099547511312217\n",
      "Straight Flush: 0.001990950226244344\n",
      "Three Aces: 0.00018099547511312217\n",
      "Three of a Kind: 0.0021719457013574662\n",
      "Straight: 0.03257918552036199\n",
      "Flush: 0.049592760180995475\n",
      "Pair: 0.16941176470588235\n",
      "High Card: 0.7438914027149321\n"
     ]
    }
   ],
   "source": [
    "category_counts = {\n",
    "    category: 0\n",
    "    for category in [\n",
    "        \"Royal Flush\",\n",
    "        \"Straight Flush\",\n",
    "        \"Three Aces\",\n",
    "        \"Three of a Kind\",\n",
    "        \"Straight\",\n",
    "        \"Flush\",\n",
    "        \"Pair\",\n",
    "        \"High Card\",\n",
    "    ]\n",
    "}\n",
    "\n",
    "for hand in hands:\n",
    "    category = categorize(hand)\n",
    "    if category != \"One Pair\":\n",
    "        category_counts[category] += 1\n",
    "\n",
    "print(\">> Category Frequencies\")\n",
    "for category, count in category_counts.items():\n",
    "    print(f\"{category}: {count}\")\n",
    "\n",
    "print()\n",
    "\n",
    "print(\">> Category Probabilities\")\n",
    "for category, count in category_counts.items():\n",
    "    print(f\"{category}: {count / len(hands)}\")"
   ]
  },
  {
   "cell_type": "markdown",
   "metadata": {},
   "source": [
    "### Benchmark Analysis\n",
    "\n",
    "#### Expected Value\n",
    "\n",
    "- To make the game more interesting, the player can replace (or draw) 0, 1, 2 or all 3 cards. \n",
    "- Determine the perfect play for any 3 card hand. For instance, with As Ah Kh, should you hold As Ah or Ah Kh? There’s 49 cards left and you compute the E[As Ah] and E[Ah Kh] and pick the higher one. \n",
    "- To generalize, compute E[x] for all eight possible holds and use the hold with the highest E[x]. Create 10 “interesting” hands and show the E[x] for each hold and which one is the perfect play. Include the output from the test hands."
   ]
  },
  {
   "cell_type": "code",
   "execution_count": 4,
   "metadata": {},
   "outputs": [],
   "source": [
    "payouts = {\n",
    "    \"Royal Flush\": 250,\n",
    "    \"Straight Flush\": 100,\n",
    "    \"Three Aces\": 100,\n",
    "    \"Three of a Kind\": 30,\n",
    "    \"Straight\": 15,\n",
    "    \"Flush\": 5,\n",
    "    \"Pair\": 1,\n",
    "    \"High Card\": 0,\n",
    "}"
   ]
  },
  {
   "cell_type": "code",
   "execution_count": 5,
   "metadata": {},
   "outputs": [],
   "source": [
    "samples = [\n",
    "    [\"A of ♠\", \"A of ♥\", \"K of ♥\"],\n",
    "    [\"J of ♠\", \"6 of ♦\", \"8 of ♦\"],\n",
    "    [\"A of ♠\", \"K of ♠\", \"Q of ♠\"],\n",
    "    [\"J of ♠\", \"10 of ♠\", \"9 of ♠\"],\n",
    "    [\"A of ♠\", \"A of ♥\", \"A of ♦\"],\n",
    "    [\"7 of ♠\", \"7 of ♥\", \"7 of ♦\"],\n",
    "    [\"A of ♠\", \"2 of ♥\", \"3 of ♦\"],\n",
    "    [\"A of ♠\", \"Q of ♠\", \"9 of ♠\"],\n",
    "    [\"A of ♠\", \"A of ♥\", \"K of ♠\"],\n",
    "    [\"A of ♠\", \"8 of ♥\", \"9 of ♠\"],\n",
    "]"
   ]
  },
  {
   "cell_type": "code",
   "execution_count": 6,
   "metadata": {},
   "outputs": [],
   "source": [
    "from itertools import combinations\n",
    "\n",
    "def ev_calc(hold, hand, deck):\n",
    "    \"\"\"Calculate the expected value of a hand given the cards to hold.\"\"\"\n",
    "    remainder = [card for card in deck if card not in hand]\n",
    "    likelihoods = {}\n",
    "\n",
    "    # Probability Outcomes\n",
    "    for draw in combinations(remainder, size - len(hold)):\n",
    "        new_hand = list(hold) + list(draw)\n",
    "        category = categorize(new_hand)\n",
    "        likelihoods[category] = likelihoods.get(category, 0) + 1\n",
    "\n",
    "    # Probability Normalization\n",
    "    total_probability = sum(likelihoods.values())\n",
    "    for category in likelihoods:\n",
    "        likelihoods[category] /= total_probability\n",
    "\n",
    "    return sum(likelihoods[category] * payouts[category] for category in likelihoods)\n",
    "\n",
    "def ideal_play(hand, deck):\n",
    "    \"\"\"Find the ideal play for a given hand.\"\"\"\n",
    "    max_ev = 0\n",
    "    best_hold = None\n",
    "    replacement = [0, 1, 2, 3]\n",
    "\n",
    "    for draw in replacement:\n",
    "        holds = list(combinations(hand, len(hand) - draw))\n",
    "\n",
    "        for hold in holds:\n",
    "            ev = ev_calc(list(hold), hand, deck)\n",
    "            print(f\"Hold: {hold}, Expected Value: {ev}\")\n",
    "\n",
    "            if ev > max_ev:\n",
    "                max_ev = ev\n",
    "                best_hold = hold\n",
    "\n",
    "    return best_hold, max_ev"
   ]
  },
  {
   "cell_type": "code",
   "execution_count": 7,
   "metadata": {},
   "outputs": [
    {
     "name": "stdout",
     "output_type": "stream",
     "text": [
      ">> Hand: ['A of ♠', 'A of ♥', 'K of ♥'] → Pair\n",
      "Hold: ('A of ♠', 'A of ♥', 'K of ♥'), Expected Value: 1.0\n",
      "Hold: ('A of ♠', 'A of ♥'), Expected Value: 5.040816326530612\n",
      "Hold: ('A of ♠', 'K of ♥'), Expected Value: 1.3265306122448979\n",
      "Hold: ('A of ♥', 'K of ♥'), Expected Value: 7.142857142857142\n",
      "Hold: ('A of ♠',), Expected Value: 1.125\n",
      "Hold: ('A of ♥',), Expected Value: 0.8826530612244897\n",
      "Hold: ('K of ♥',), Expected Value: 0.858843537414966\n",
      "Hold: (), Expected Value: 1.2608554059921842\n",
      ">> Ideal Play: (('A of ♥', 'K of ♥'), 7.142857142857142)\n",
      "\n",
      ">> Hand: ['J of ♠', '6 of ♦', '8 of ♦'] → High Card\n",
      "Hold: ('J of ♠', '6 of ♦', '8 of ♦'), Expected Value: 0.0\n",
      "Hold: ('J of ♠', '6 of ♦'), Expected Value: 0.12244897959183673\n",
      "Hold: ('J of ♠', '8 of ♦'), Expected Value: 0.12244897959183673\n",
      "Hold: ('6 of ♦', '8 of ♦'), Expected Value: 4.1020408163265305\n",
      "Hold: ('J of ♠',), Expected Value: 1.346938775510204\n",
      "Hold: ('6 of ♦',), Expected Value: 1.1811224489795917\n",
      "Hold: ('8 of ♦',), Expected Value: 1.1811224489795917\n",
      "Hold: (), Expected Value: 1.2314915327833262\n",
      ">> Ideal Play: (('6 of ♦', '8 of ♦'), 4.1020408163265305)\n",
      "\n",
      ">> Hand: ['A of ♠', 'K of ♠', 'Q of ♠'] → Royal Flush\n",
      "Hold: ('A of ♠', 'K of ♠', 'Q of ♠'), Expected Value: 250.0\n",
      "Hold: ('A of ♠', 'K of ♠'), Expected Value: 2.0612244897959187\n",
      "Hold: ('A of ♠', 'Q of ♠'), Expected Value: 2.061224489795918\n",
      "Hold: ('K of ♠', 'Q of ♠'), Expected Value: 4.918367346938775\n",
      "Hold: ('A of ♠',), Expected Value: 1.0068027210884354\n",
      "Hold: ('K of ♠',), Expected Value: 0.7091836734693878\n",
      "Hold: ('Q of ♠',), Expected Value: 0.9812925170068026\n",
      "Hold: (), Expected Value: 1.2700282240555796\n",
      ">> Ideal Play: (('A of ♠', 'K of ♠', 'Q of ♠'), 250.0)\n",
      "\n",
      ">> Hand: ['J of ♠', '10 of ♠', '9 of ♠'] → Straight Flush\n",
      "Hold: ('J of ♠', '10 of ♠', '9 of ♠'), Expected Value: 100.0\n",
      "Hold: ('J of ♠', '10 of ♠'), Expected Value: 4.918367346938776\n",
      "Hold: ('J of ♠', '9 of ♠'), Expected Value: 2.061224489795918\n",
      "Hold: ('10 of ♠', '9 of ♠'), Expected Value: 4.918367346938775\n",
      "Hold: ('J of ♠',), Expected Value: 0.9812925170068026\n",
      "Hold: ('10 of ♠',), Expected Value: 0.8622448979591837\n",
      "Hold: ('9 of ♠',), Expected Value: 0.9812925170068026\n",
      "Hold: (), Expected Value: 1.262429439861051\n",
      ">> Ideal Play: (('J of ♠', '10 of ♠', '9 of ♠'), 100.0)\n",
      "\n",
      ">> Hand: ['A of ♠', 'A of ♥', 'A of ♦'] → Three Aces\n",
      "Hold: ('A of ♠', 'A of ♥', 'A of ♦'), Expected Value: 100.0\n",
      "Hold: ('A of ♠', 'A of ♥'), Expected Value: 3.020408163265306\n",
      "Hold: ('A of ♠', 'A of ♦'), Expected Value: 3.020408163265306\n",
      "Hold: ('A of ♥', 'A of ♦'), Expected Value: 3.020408163265306\n",
      "Hold: ('A of ♠',), Expected Value: 1.054421768707483\n",
      "Hold: ('A of ♥',), Expected Value: 1.054421768707483\n",
      "Hold: ('A of ♦',), Expected Value: 1.054421768707483\n",
      "Hold: (), Expected Value: 1.2483716891011722\n",
      ">> Ideal Play: (('A of ♠', 'A of ♥', 'A of ♦'), 100.0)\n",
      "\n",
      ">> Hand: ['7 of ♠', '7 of ♥', '7 of ♦'] → Three of a Kind\n",
      "Hold: ('7 of ♠', '7 of ♥', '7 of ♦'), Expected Value: 30.0\n",
      "Hold: ('7 of ♠', '7 of ♥'), Expected Value: 1.5918367346938775\n",
      "Hold: ('7 of ♠', '7 of ♦'), Expected Value: 1.5918367346938775\n",
      "Hold: ('7 of ♥', '7 of ♦'), Expected Value: 1.5918367346938775\n",
      "Hold: ('7 of ♠',), Expected Value: 1.1989795918367347\n",
      "Hold: ('7 of ♥',), Expected Value: 1.1989795918367347\n",
      "Hold: ('7 of ♦',), Expected Value: 1.1989795918367347\n",
      "Hold: (), Expected Value: 1.2358879722101608\n",
      ">> Ideal Play: (('7 of ♠', '7 of ♥', '7 of ♦'), 30.0)\n",
      "\n",
      ">> Hand: ['A of ♠', '2 of ♥', '3 of ♦'] → Straight\n",
      "Hold: ('A of ♠', '2 of ♥', '3 of ♦'), Expected Value: 15.0\n",
      "Hold: ('A of ♠', '2 of ♥'), Expected Value: 1.0408163265306123\n",
      "Hold: ('A of ♠', '3 of ♦'), Expected Value: 1.0408163265306123\n",
      "Hold: ('2 of ♥', '3 of ♦'), Expected Value: 2.2653061224489797\n",
      "Hold: ('A of ♠',), Expected Value: 1.2916666666666665\n",
      "Hold: ('2 of ♥',), Expected Value: 0.9345238095238095\n",
      "Hold: ('3 of ♦',), Expected Value: 1.2066326530612244\n",
      "Hold: (), Expected Value: 1.2483174120712113\n",
      ">> Ideal Play: (('A of ♠', '2 of ♥', '3 of ♦'), 15.0)\n",
      "\n",
      ">> Hand: ['A of ♠', 'Q of ♠', '9 of ♠'] → Flush\n",
      "Hold: ('A of ♠', 'Q of ♠', '9 of ♠'), Expected Value: 5.0\n",
      "Hold: ('A of ♠', 'Q of ♠'), Expected Value: 7.061224489795918\n",
      "Hold: ('A of ♠', '9 of ♠'), Expected Value: 1.1428571428571428\n",
      "Hold: ('Q of ♠', '9 of ♠'), Expected Value: 1.1428571428571428\n",
      "Hold: ('A of ♠',), Expected Value: 1.0450680272108843\n",
      "Hold: ('Q of ♠',), Expected Value: 1.1386054421768708\n",
      "Hold: ('9 of ♠',), Expected Value: 1.2576530612244898\n",
      "Hold: (), Expected Value: 1.2350195397307857\n",
      ">> Ideal Play: (('A of ♠', 'Q of ♠'), 7.061224489795918)\n",
      "\n",
      ">> Hand: ['A of ♠', 'A of ♥', 'K of ♠'] → Pair\n",
      "Hold: ('A of ♠', 'A of ♥', 'K of ♠'), Expected Value: 1.0\n",
      "Hold: ('A of ♠', 'A of ♥'), Expected Value: 5.040816326530612\n",
      "Hold: ('A of ♠', 'K of ♠'), Expected Value: 7.142857142857142\n",
      "Hold: ('A of ♥', 'K of ♠'), Expected Value: 1.3265306122448979\n",
      "Hold: ('A of ♠',), Expected Value: 0.8826530612244898\n",
      "Hold: ('A of ♥',), Expected Value: 1.125\n",
      "Hold: ('K of ♠',), Expected Value: 0.858843537414966\n",
      "Hold: (), Expected Value: 1.2608554059921842\n",
      ">> Ideal Play: (('A of ♠', 'K of ♠'), 7.142857142857142)\n",
      "\n",
      ">> Hand: ['A of ♠', '8 of ♥', '9 of ♠'] → High Card\n",
      "Hold: ('A of ♠', '8 of ♥', '9 of ♠'), Expected Value: 0.0\n",
      "Hold: ('A of ♠', '8 of ♥'), Expected Value: 0.12244897959183673\n",
      "Hold: ('A of ♠', '9 of ♠'), Expected Value: 1.2448979591836733\n",
      "Hold: ('8 of ♥', '9 of ♠'), Expected Value: 2.571428571428571\n",
      "Hold: ('A of ♠',), Expected Value: 1.334183673469388\n",
      "Hold: ('8 of ♥',), Expected Value: 1.2448979591836733\n",
      "Hold: ('9 of ♠',), Expected Value: 1.19812925170068\n",
      "Hold: (), Expected Value: 1.228234910985671\n",
      ">> Ideal Play: (('8 of ♥', '9 of ♠'), 2.571428571428571)\n",
      "\n"
     ]
    }
   ],
   "source": [
    "for hand in samples:\n",
    "    print(f\">> Hand: {hand} → {categorize(hand)}\")\n",
    "    print(f\">> Ideal Play: {ideal_play(hand, deck)}\\n\")"
   ]
  },
  {
   "cell_type": "markdown",
   "metadata": {},
   "source": [
    "#### Perfect Play\n",
    "\n",
    "- Determine the perfect play for all hands. Frequency/Probability is no longer meaningful - you will sum the E[x] for the perfect play for each hand to determine the total return. Include the updated return table with perfect play."
   ]
  },
  {
   "cell_type": "code",
   "execution_count": 8,
   "metadata": {},
   "outputs": [],
   "source": [
    "total_return = sum(ev_calc(hold, hand, deck) for hold in hands)"
   ]
  },
  {
   "cell_type": "markdown",
   "metadata": {},
   "source": [
    "| Hand | Description | Payout |\n",
    "| --- | --- | --- |\n",
    "| Royal Flush | AKQ (in any suit) | \\$250 |\n",
    "| Straight Flush | 3 suited in sequence | \\$100 |\n",
    "| Three Aces | 3 Aces (any combo of suits) | \\$100 |\n",
    "| Three of a Kind | 3 of the same rank | \\$30 |\n",
    "| Straight | 3 in sequence (includes AKQ) | \\$15 |\n",
    "| Flush | 3 suited | \\$5 |\n",
    "| Pair | 2 of the same rank | \\$1 | \n",
    "| High Card | None of the above | \\$0 | "
   ]
  },
  {
   "cell_type": "code",
   "execution_count": 9,
   "metadata": {},
   "outputs": [
    {
     "name": "stdout",
     "output_type": "stream",
     "text": [
      ">> Perfect Play: 27264.0\n"
     ]
    }
   ],
   "source": [
    "print(f\">> Perfect Play: {total_return}\")"
   ]
  }
 ],
 "metadata": {
  "kernelspec": {
   "display_name": "cs411-Si67xnTM",
   "language": "python",
   "name": "python3"
  },
  "language_info": {
   "codemirror_mode": {
    "name": "ipython",
    "version": 3
   },
   "file_extension": ".py",
   "mimetype": "text/x-python",
   "name": "python",
   "nbconvert_exporter": "python",
   "pygments_lexer": "ipython3",
   "version": "3.11.6"
  }
 },
 "nbformat": 4,
 "nbformat_minor": 2
}
